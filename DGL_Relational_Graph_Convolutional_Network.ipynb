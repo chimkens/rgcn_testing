{
 "cells": [
  {
   "cell_type": "code",
   "execution_count": 1,
   "metadata": {},
   "outputs": [],
   "source": [
    "%matplotlib inline"
   ]
  },
  {
   "cell_type": "markdown",
   "metadata": {},
   "source": [
    "(R-GCN): This type of network is one effort to generalize GCN \n",
    "to handle different relationships between entities in a knowledge base. \n",
    "To learn more about the research behind R-GCN, see `Modeling Relational Data with Graph Convolutional\n",
    "Networks <https://arxiv.org/pdf/1703.06103.pdf>`_ \n",
    "\n",
    "\n",
    "The straightforward graph convolutional network (GCN) and \n",
    "`DGL tutorial <http://doc.dgl.ai/tutorials/index.html>`_) exploits\n",
    "structural information of a dataset (that is, the graph connectivity) in order to improve the extraction of node representations. Graph edges are left as untyped.\n",
    "\n",
    "\n",
    "A knowledge graph is made up of a collection of triples in the form\n",
    "subject, relation, object. Edges thus encode important information and have their own embeddings to be learned. Furthermore, there may exist multiple edges among any given pair."
   ]
  },
  {
   "cell_type": "markdown",
   "metadata": {},
   "source": [
    "## Part 1: Entity Classification Preparation"
   ]
  },
  {
   "cell_type": "code",
   "execution_count": 2,
   "metadata": {},
   "outputs": [
    {
     "name": "stderr",
     "output_type": "stream",
     "text": [
      "Using backend: pytorch\n"
     ]
    }
   ],
   "source": [
    "import torch\n",
    "import torch.nn as nn\n",
    "import torch.nn.functional as F\n",
    "from dgl import DGLGraph\n",
    "import dgl.function as fn\n",
    "from functools import partial\n",
    "\n",
    "class RGCNLayer(nn.Module):\n",
    "    def __init__(self, in_feat, out_feat, num_rels, num_bases=-1, bias=None,\n",
    "                 activation=None, is_input_layer=False):\n",
    "        super(RGCNLayer, self).__init__()\n",
    "        self.in_feat = in_feat\n",
    "        self.out_feat = out_feat\n",
    "        self.num_rels = num_rels\n",
    "        self.num_bases = num_bases\n",
    "        self.bias = bias\n",
    "        self.activation = activation\n",
    "        self.is_input_layer = is_input_layer\n",
    "\n",
    "        # sanity check\n",
    "        if self.num_bases <= 0 or self.num_bases > self.num_rels:\n",
    "            self.num_bases = self.num_rels\n",
    "\n",
    "        # weight bases in equation (3)\n",
    "        self.weight = nn.Parameter(torch.Tensor(self.num_bases, self.in_feat,\n",
    "                                                self.out_feat))\n",
    "        if self.num_bases < self.num_rels:\n",
    "            # linear combination coefficients in equation (3)\n",
    "            self.w_comp = nn.Parameter(torch.Tensor(self.num_rels, self.num_bases))\n",
    "\n",
    "        # add bias\n",
    "        if self.bias:\n",
    "            self.bias = nn.Parameter(torch.Tensor(out_feat))\n",
    "\n",
    "        # init trainable parameters\n",
    "        nn.init.xavier_uniform_(self.weight,\n",
    "                                gain=nn.init.calculate_gain('relu'))\n",
    "        if self.num_bases < self.num_rels:\n",
    "            nn.init.xavier_uniform_(self.w_comp,\n",
    "                                    gain=nn.init.calculate_gain('relu'))\n",
    "        if self.bias:\n",
    "            nn.init.xavier_uniform_(self.bias,\n",
    "                                    gain=nn.init.calculate_gain('relu'))\n",
    "\n",
    "    def forward(self, g):\n",
    "        if self.num_bases < self.num_rels:\n",
    "            # generate all weights from bases (equation (3))\n",
    "            weight = self.weight.view(self.in_feat, self.num_bases, self.out_feat)\n",
    "            weight = torch.matmul(self.w_comp, weight).view(self.num_rels,\n",
    "                                                        self.in_feat, self.out_feat)\n",
    "        else:\n",
    "            weight = self.weight\n",
    "\n",
    "        if self.is_input_layer:\n",
    "            def message_func(edges):\n",
    "                # for input layer, matrix multiply can be converted to be\n",
    "                # an embedding lookup using source node id\n",
    "                embed = weight.view(-1, self.out_feat)\n",
    "                index = edges.data['rel_type'] * self.in_feat + edges.src['id']\n",
    "                return {'msg': embed[index] * edges.data['norm']}\n",
    "        else:\n",
    "            def message_func(edges):\n",
    "                w = weight[edges.data['rel_type']]\n",
    "                msg = torch.bmm(edges.src['h'].unsqueeze(1), w).squeeze()\n",
    "                msg = msg * edges.data['norm']\n",
    "                return {'msg': msg}\n",
    "\n",
    "        def apply_func(nodes):\n",
    "            h = nodes.data['h']\n",
    "            if self.bias:\n",
    "                h = h + self.bias\n",
    "            if self.activation:\n",
    "                h = self.activation(h)\n",
    "            return {'h': h}\n",
    "\n",
    "        g.update_all(message_func, fn.sum(msg='msg', out='h'), apply_func)"
   ]
  },
  {
   "cell_type": "markdown",
   "metadata": {},
   "source": [
    "Full R-GCN model defined"
   ]
  },
  {
   "cell_type": "code",
   "execution_count": 3,
   "metadata": {},
   "outputs": [],
   "source": [
    "class Model(nn.Module):\n",
    "    def __init__(self, num_nodes, h_dim, out_dim, num_rels,\n",
    "                 num_bases=-1, num_hidden_layers=1):\n",
    "        super(Model, self).__init__()\n",
    "        self.num_nodes = num_nodes\n",
    "        self.h_dim = h_dim\n",
    "        self.out_dim = out_dim\n",
    "        self.num_rels = num_rels\n",
    "        self.num_bases = num_bases\n",
    "        self.num_hidden_layers = num_hidden_layers\n",
    "\n",
    "        # create rgcn layers\n",
    "        self.build_model()\n",
    "\n",
    "        # create initial features\n",
    "        self.features = self.create_features()\n",
    "\n",
    "    def build_model(self):\n",
    "        self.layers = nn.ModuleList()\n",
    "        # input to hidden\n",
    "        i2h = self.build_input_layer()\n",
    "        self.layers.append(i2h)\n",
    "        # hidden to hidden\n",
    "        for _ in range(self.num_hidden_layers):\n",
    "            h2h = self.build_hidden_layer()\n",
    "            self.layers.append(h2h)\n",
    "        # hidden to output\n",
    "        h2o = self.build_output_layer()\n",
    "        self.layers.append(h2o)\n",
    "\n",
    "    # initialize feature for each node\n",
    "    def create_features(self):\n",
    "        features = torch.arange(self.num_nodes)\n",
    "        return features\n",
    "\n",
    "    def build_input_layer(self):\n",
    "        return RGCNLayer(self.num_nodes, self.h_dim, self.num_rels, self.num_bases,\n",
    "                         activation=F.relu, is_input_layer=True)\n",
    "\n",
    "    def build_hidden_layer(self):\n",
    "        return RGCNLayer(self.h_dim, self.h_dim, self.num_rels, self.num_bases,\n",
    "                         activation=F.relu)\n",
    "\n",
    "    def build_output_layer(self):\n",
    "        return RGCNLayer(self.h_dim, self.out_dim, self.num_rels, self.num_bases,\n",
    "                         activation=partial(F.softmax, dim=1))\n",
    "\n",
    "    def forward(self, g):\n",
    "        if self.features is not None:\n",
    "            g.ndata['id'] = self.features\n",
    "        for layer in self.layers:\n",
    "            layer(g)\n",
    "        return g.ndata.pop('h')"
   ]
  },
  {
   "cell_type": "markdown",
   "metadata": {},
   "source": [
    "Import our dataset"
   ]
  },
  {
   "cell_type": "code",
   "execution_count": 4,
   "metadata": {},
   "outputs": [
    {
     "data": {
      "text/html": [
       "<div>\n",
       "<style scoped>\n",
       "    .dataframe tbody tr th:only-of-type {\n",
       "        vertical-align: middle;\n",
       "    }\n",
       "\n",
       "    .dataframe tbody tr th {\n",
       "        vertical-align: top;\n",
       "    }\n",
       "\n",
       "    .dataframe thead th {\n",
       "        text-align: right;\n",
       "    }\n",
       "</style>\n",
       "<table border=\"1\" class=\"dataframe\">\n",
       "  <thead>\n",
       "    <tr style=\"text-align: right;\">\n",
       "      <th></th>\n",
       "      <th>agent_A</th>\n",
       "      <th>agent_B</th>\n",
       "      <th>stmt_type</th>\n",
       "    </tr>\n",
       "  </thead>\n",
       "  <tbody>\n",
       "    <tr>\n",
       "      <th>0</th>\n",
       "      <td>HGNC:12873</td>\n",
       "      <td>HGNC:11715</td>\n",
       "      <td>Complex</td>\n",
       "    </tr>\n",
       "    <tr>\n",
       "      <th>1</th>\n",
       "      <td>HGNC:11715</td>\n",
       "      <td>HGNC:12873</td>\n",
       "      <td>Complex</td>\n",
       "    </tr>\n",
       "    <tr>\n",
       "      <th>2</th>\n",
       "      <td>HGNC:12731</td>\n",
       "      <td>HGNC:19297</td>\n",
       "      <td>Complex</td>\n",
       "    </tr>\n",
       "    <tr>\n",
       "      <th>3</th>\n",
       "      <td>HGNC:19297</td>\n",
       "      <td>HGNC:12731</td>\n",
       "      <td>Complex</td>\n",
       "    </tr>\n",
       "    <tr>\n",
       "      <th>4</th>\n",
       "      <td>HGNC:6843</td>\n",
       "      <td>HGNC:2631</td>\n",
       "      <td>Activation</td>\n",
       "    </tr>\n",
       "  </tbody>\n",
       "</table>\n",
       "</div>"
      ],
      "text/plain": [
       "      agent_A     agent_B   stmt_type\n",
       "0  HGNC:12873  HGNC:11715     Complex\n",
       "1  HGNC:11715  HGNC:12873     Complex\n",
       "2  HGNC:12731  HGNC:19297     Complex\n",
       "3  HGNC:19297  HGNC:12731     Complex\n",
       "4   HGNC:6843   HGNC:2631  Activation"
      ]
     },
     "execution_count": 4,
     "metadata": {},
     "output_type": "execute_result"
    }
   ],
   "source": [
    "import pandas as pd\n",
    "import networkx as nx\n",
    "\n",
    "bios = pd.read_csv('network.csv')\n",
    "bios = bios.drop_duplicates()\n",
    "bios[\"agent_A\"] = bios[\"agA_ns\"] + ':' + bios[\"agA_id\"]\n",
    "bios[\"agent_B\"] = bios[\"agB_ns\"] + ':' + bios[\"agB_id\"]\n",
    "#bios[\"edge_attr\"] = tf.constant(bios['stmt_type'])\n",
    "\n",
    "bios_graph_data = bios[['agent_A', 'agent_B', 'stmt_type']]\n",
    "\n",
    "bios_graph_data.head()"
   ]
  },
  {
   "cell_type": "markdown",
   "metadata": {},
   "source": [
    "Encode our 'edge' relationships, and create a lookup dictionary. These correspond to different biology agent relationships like  methylation, inhibition, etc. "
   ]
  },
  {
   "cell_type": "code",
   "execution_count": 5,
   "metadata": {},
   "outputs": [
    {
     "data": {
      "text/plain": [
       "{2: 'Complex',\n",
       " 1: 'Activation',\n",
       " 16: 'IncreaseAmount',\n",
       " 17: 'Inhibition',\n",
       " 13: 'Glycosylation',\n",
       " 21: 'Phosphorylation',\n",
       " 23: 'Ubiquitination',\n",
       " 5: 'DecreaseAmount',\n",
       " 7: 'Dephosphorylation',\n",
       " 12: 'Gef',\n",
       " 3: 'Conversion',\n",
       " 18: 'Methylation',\n",
       " 10: 'Farnesylation',\n",
       " 15: 'Hydroxylation',\n",
       " 22: 'Sumoylation',\n",
       " 0: 'Acetylation',\n",
       " 9: 'Deubiquitination',\n",
       " 4: 'Deacetylation',\n",
       " 14: 'GtpActivation',\n",
       " 11: 'Gap',\n",
       " 6: 'Demethylation',\n",
       " 19: 'Myristoylation',\n",
       " 8: 'Desumoylation',\n",
       " 20: 'Palmitoylation'}"
      ]
     },
     "execution_count": 5,
     "metadata": {},
     "output_type": "execute_result"
    }
   ],
   "source": [
    "import tensorflow as tf\n",
    "\n",
    "\n",
    "#bios_graph_data['test'] = bios_graph_data.apply(lambda x: tf.convert_to_tensor(x.stmt_type), axis=1)\n",
    "edge_relation_lookup = dict( zip( bios_graph_data['stmt_type'].astype('category').cat.codes, bios_graph_data['stmt_type'] ) )\n",
    "edge_relation_lookup"
   ]
  },
  {
   "cell_type": "code",
   "execution_count": 6,
   "metadata": {},
   "outputs": [
    {
     "name": "stderr",
     "output_type": "stream",
     "text": [
      "<ipython-input-6-a22459170bbe>:1: SettingWithCopyWarning: \n",
      "A value is trying to be set on a copy of a slice from a DataFrame.\n",
      "Try using .loc[row_indexer,col_indexer] = value instead\n",
      "\n",
      "See the caveats in the documentation: https://pandas.pydata.org/pandas-docs/stable/user_guide/indexing.html#returning-a-view-versus-a-copy\n",
      "  bios_graph_data['relation_category'] = bios_graph_data.stmt_type.astype('category').cat.codes\n"
     ]
    },
    {
     "data": {
      "text/html": [
       "<div>\n",
       "<style scoped>\n",
       "    .dataframe tbody tr th:only-of-type {\n",
       "        vertical-align: middle;\n",
       "    }\n",
       "\n",
       "    .dataframe tbody tr th {\n",
       "        vertical-align: top;\n",
       "    }\n",
       "\n",
       "    .dataframe thead th {\n",
       "        text-align: right;\n",
       "    }\n",
       "</style>\n",
       "<table border=\"1\" class=\"dataframe\">\n",
       "  <thead>\n",
       "    <tr style=\"text-align: right;\">\n",
       "      <th></th>\n",
       "      <th>agent_A</th>\n",
       "      <th>agent_B</th>\n",
       "      <th>stmt_type</th>\n",
       "      <th>relation_category</th>\n",
       "    </tr>\n",
       "  </thead>\n",
       "  <tbody>\n",
       "    <tr>\n",
       "      <th>0</th>\n",
       "      <td>HGNC:12873</td>\n",
       "      <td>HGNC:11715</td>\n",
       "      <td>Complex</td>\n",
       "      <td>2</td>\n",
       "    </tr>\n",
       "    <tr>\n",
       "      <th>1</th>\n",
       "      <td>HGNC:11715</td>\n",
       "      <td>HGNC:12873</td>\n",
       "      <td>Complex</td>\n",
       "      <td>2</td>\n",
       "    </tr>\n",
       "    <tr>\n",
       "      <th>2</th>\n",
       "      <td>HGNC:12731</td>\n",
       "      <td>HGNC:19297</td>\n",
       "      <td>Complex</td>\n",
       "      <td>2</td>\n",
       "    </tr>\n",
       "    <tr>\n",
       "      <th>3</th>\n",
       "      <td>HGNC:19297</td>\n",
       "      <td>HGNC:12731</td>\n",
       "      <td>Complex</td>\n",
       "      <td>2</td>\n",
       "    </tr>\n",
       "    <tr>\n",
       "      <th>4</th>\n",
       "      <td>HGNC:6843</td>\n",
       "      <td>HGNC:2631</td>\n",
       "      <td>Activation</td>\n",
       "      <td>1</td>\n",
       "    </tr>\n",
       "  </tbody>\n",
       "</table>\n",
       "</div>"
      ],
      "text/plain": [
       "      agent_A     agent_B   stmt_type  relation_category\n",
       "0  HGNC:12873  HGNC:11715     Complex                  2\n",
       "1  HGNC:11715  HGNC:12873     Complex                  2\n",
       "2  HGNC:12731  HGNC:19297     Complex                  2\n",
       "3  HGNC:19297  HGNC:12731     Complex                  2\n",
       "4   HGNC:6843   HGNC:2631  Activation                  1"
      ]
     },
     "execution_count": 6,
     "metadata": {},
     "output_type": "execute_result"
    }
   ],
   "source": [
    "bios_graph_data['relation_category'] = bios_graph_data.stmt_type.astype('category').cat.codes\n",
    "bios_graph_data.head()"
   ]
  },
  {
   "cell_type": "markdown",
   "metadata": {},
   "source": [
    "In the RGCN paper, they specify normalizing the edges. Here we will implement this manually since it was never documented in code how they did this. Other papers suggest (in the case where there is a hypothetical edge between node A and node B) taking the square root of node A centrality times node B centrality. "
   ]
  },
  {
   "cell_type": "markdown",
   "metadata": {},
   "source": [
    "First create node centrality dictionary"
   ]
  },
  {
   "cell_type": "code",
   "execution_count": 7,
   "metadata": {},
   "outputs": [
    {
     "name": "stdout",
     "output_type": "stream",
     "text": [
      "HGNC:12932 0.06021357580883908\n",
      "HGNC:620 0.05979065341509833\n",
      "HGNC:8031 0.053552548107422285\n",
      "HGNC:3236 0.04699725100444068\n",
      "HGNC:3312 0.045569887925565655\n",
      "HGNC:11998 0.04414252484669063\n",
      "HGNC:12825 0.033516599703954326\n",
      "HGNC:2553 0.03129625713681539\n",
      "HGNC:6871 0.0312433918375978\n",
      "HGNC:1100 0.031190526538380205\n",
      "HGNC:3467 0.029816028758722773\n",
      "HGNC:7200 0.02886445337280609\n",
      "HGNC:8071 0.028811588073588495\n",
      "HGNC:1771 0.027754282089236623\n",
      "HGNC:11283 0.027754282089236623\n"
     ]
    }
   ],
   "source": [
    "g_w_data = nx.from_pandas_edgelist(bios_graph_data,source='agent_A',target='agent_B', edge_attr=[\"relation_category\"], create_using=nx.DiGraph())\n",
    "dict1 = nx.degree_centrality(g_w_data)\n",
    "\n",
    "def print_centrality(dict):\n",
    "    for i,w in enumerate(sorted(dict, key=dict.get, reverse=True)):\n",
    "        if (i < 15):\n",
    "            print (w, dict[w])\n",
    "        else:\n",
    "            break\n",
    "            \n",
    "print_centrality(dict1)"
   ]
  },
  {
   "cell_type": "code",
   "execution_count": 8,
   "metadata": {},
   "outputs": [
    {
     "name": "stderr",
     "output_type": "stream",
     "text": [
      "<ipython-input-8-0033c08ccb2e>:3: SettingWithCopyWarning: \n",
      "A value is trying to be set on a copy of a slice from a DataFrame.\n",
      "Try using .loc[row_indexer,col_indexer] = value instead\n",
      "\n",
      "See the caveats in the documentation: https://pandas.pydata.org/pandas-docs/stable/user_guide/indexing.html#returning-a-view-versus-a-copy\n",
      "  bios_graph_data['edge_norm'] = bios_graph_data.apply(lambda x: np.sqrt(dict1[x.agent_A]*dict1[x.agent_B]), axis=1)\n"
     ]
    },
    {
     "data": {
      "text/html": [
       "<div>\n",
       "<style scoped>\n",
       "    .dataframe tbody tr th:only-of-type {\n",
       "        vertical-align: middle;\n",
       "    }\n",
       "\n",
       "    .dataframe tbody tr th {\n",
       "        vertical-align: top;\n",
       "    }\n",
       "\n",
       "    .dataframe thead th {\n",
       "        text-align: right;\n",
       "    }\n",
       "</style>\n",
       "<table border=\"1\" class=\"dataframe\">\n",
       "  <thead>\n",
       "    <tr style=\"text-align: right;\">\n",
       "      <th></th>\n",
       "      <th>agent_A</th>\n",
       "      <th>agent_B</th>\n",
       "      <th>stmt_type</th>\n",
       "      <th>relation_category</th>\n",
       "      <th>edge_norm</th>\n",
       "    </tr>\n",
       "  </thead>\n",
       "  <tbody>\n",
       "    <tr>\n",
       "      <th>0</th>\n",
       "      <td>HGNC:12873</td>\n",
       "      <td>HGNC:11715</td>\n",
       "      <td>Complex</td>\n",
       "      <td>2</td>\n",
       "      <td>0.001123</td>\n",
       "    </tr>\n",
       "    <tr>\n",
       "      <th>1</th>\n",
       "      <td>HGNC:11715</td>\n",
       "      <td>HGNC:12873</td>\n",
       "      <td>Complex</td>\n",
       "      <td>2</td>\n",
       "      <td>0.001123</td>\n",
       "    </tr>\n",
       "    <tr>\n",
       "      <th>2</th>\n",
       "      <td>HGNC:12731</td>\n",
       "      <td>HGNC:19297</td>\n",
       "      <td>Complex</td>\n",
       "      <td>2</td>\n",
       "      <td>0.003247</td>\n",
       "    </tr>\n",
       "    <tr>\n",
       "      <th>3</th>\n",
       "      <td>HGNC:19297</td>\n",
       "      <td>HGNC:12731</td>\n",
       "      <td>Complex</td>\n",
       "      <td>2</td>\n",
       "      <td>0.003247</td>\n",
       "    </tr>\n",
       "    <tr>\n",
       "      <th>4</th>\n",
       "      <td>HGNC:6843</td>\n",
       "      <td>HGNC:2631</td>\n",
       "      <td>Activation</td>\n",
       "      <td>1</td>\n",
       "      <td>0.001942</td>\n",
       "    </tr>\n",
       "  </tbody>\n",
       "</table>\n",
       "</div>"
      ],
      "text/plain": [
       "      agent_A     agent_B   stmt_type  relation_category  edge_norm\n",
       "0  HGNC:12873  HGNC:11715     Complex                  2   0.001123\n",
       "1  HGNC:11715  HGNC:12873     Complex                  2   0.001123\n",
       "2  HGNC:12731  HGNC:19297     Complex                  2   0.003247\n",
       "3  HGNC:19297  HGNC:12731     Complex                  2   0.003247\n",
       "4   HGNC:6843   HGNC:2631  Activation                  1   0.001942"
      ]
     },
     "execution_count": 8,
     "metadata": {},
     "output_type": "execute_result"
    }
   ],
   "source": [
    "import numpy as np\n",
    "\n",
    "bios_graph_data['edge_norm'] = bios_graph_data.apply(lambda x: np.sqrt(dict1[x.agent_A]*dict1[x.agent_B]), axis=1)\n",
    "bios_graph_data.head()"
   ]
  },
  {
   "cell_type": "markdown",
   "metadata": {},
   "source": [
    "We have now successfully created the edge normalization values. "
   ]
  },
  {
   "cell_type": "markdown",
   "metadata": {},
   "source": [
    "Now let's create the DGL graph object. I ended up with the following:\n"
   ]
  },
  {
   "cell_type": "code",
   "execution_count": 9,
   "metadata": {},
   "outputs": [
    {
     "name": "stderr",
     "output_type": "stream",
     "text": [
      "/Users/christinawang/.conda/envs/section13/lib/python3.8/site-packages/dgl/base.py:45: DGLWarning: Recommend creating graphs by `dgl.graph(data)` instead of `dgl.DGLGraph(data)`.\n",
      "  return warnings.warn(message, category=category, stacklevel=1)\n"
     ]
    }
   ],
   "source": [
    "edge_src = bios_graph_data['agent_A'].astype('category').cat.codes.tolist()\n",
    "edge_dst = bios_graph_data['agent_B'].astype('category').cat.codes.tolist()\n",
    "g = DGLGraph((edge_src, edge_dst))"
   ]
  },
  {
   "cell_type": "code",
   "execution_count": 10,
   "metadata": {},
   "outputs": [
    {
     "name": "stdout",
     "output_type": "stream",
     "text": [
      "#Nodes 18210\n",
      "#Edges 199526\n"
     ]
    }
   ],
   "source": [
    "print('#Nodes', g.number_of_nodes())\n",
    "print('#Edges', g.number_of_edges())"
   ]
  },
  {
   "cell_type": "markdown",
   "metadata": {},
   "source": [
    "Double check a few methods to make sure the structure is correct"
   ]
  },
  {
   "cell_type": "markdown",
   "metadata": {},
   "source": [
    "Get the in-degree of node 92:"
   ]
  },
  {
   "cell_type": "code",
   "execution_count": 11,
   "metadata": {},
   "outputs": [
    {
     "name": "stderr",
     "output_type": "stream",
     "text": [
      "/Users/christinawang/.conda/envs/section13/lib/python3.8/site-packages/dgl/base.py:45: DGLWarning: DGLGraph.in_degree is deprecated. Please use DGLGraph.in_degrees\n",
      "  return warnings.warn(message, category=category, stacklevel=1)\n"
     ]
    },
    {
     "data": {
      "text/plain": [
       "6"
      ]
     },
     "execution_count": 11,
     "metadata": {},
     "output_type": "execute_result"
    }
   ],
   "source": [
    "g.in_degree(92)"
   ]
  },
  {
   "cell_type": "markdown",
   "metadata": {},
   "source": [
    "Get the successors of node 92:\n"
   ]
  },
  {
   "cell_type": "code",
   "execution_count": 12,
   "metadata": {},
   "outputs": [
    {
     "data": {
      "text/plain": [
       "tensor([12062, 12063])"
      ]
     },
     "execution_count": 12,
     "metadata": {},
     "output_type": "execute_result"
    }
   ],
   "source": [
    "g.successors(92)"
   ]
  },
  {
   "cell_type": "markdown",
   "metadata": {},
   "source": [
    "Let's add edge attributes for the 'relational' part of R-GCN"
   ]
  },
  {
   "cell_type": "code",
   "execution_count": 13,
   "metadata": {},
   "outputs": [
    {
     "name": "stdout",
     "output_type": "stream",
     "text": [
      "Number of unique biological interations/edge relations:  24\n"
     ]
    }
   ],
   "source": [
    "num_rels = len(np.unique(bios_graph_data['relation_category'].tolist()))\n",
    "num_classes=0\n",
    "print('Number of unique biological interations/edge relations: ', num_rels)"
   ]
  },
  {
   "cell_type": "code",
   "execution_count": 14,
   "metadata": {},
   "outputs": [
    {
     "name": "stderr",
     "output_type": "stream",
     "text": [
      "<ipython-input-14-df3a597349ff>:1: SettingWithCopyWarning: \n",
      "A value is trying to be set on a copy of a slice from a DataFrame.\n",
      "Try using .loc[row_indexer,col_indexer] = value instead\n",
      "\n",
      "See the caveats in the documentation: https://pandas.pydata.org/pandas-docs/stable/user_guide/indexing.html#returning-a-view-versus-a-copy\n",
      "  bios_graph_data['relation'] = bios_graph_data.apply(lambda x: ('agent', x.stmt_type, 'agent'), axis=1)\n"
     ]
    },
    {
     "data": {
      "text/html": [
       "<div>\n",
       "<style scoped>\n",
       "    .dataframe tbody tr th:only-of-type {\n",
       "        vertical-align: middle;\n",
       "    }\n",
       "\n",
       "    .dataframe tbody tr th {\n",
       "        vertical-align: top;\n",
       "    }\n",
       "\n",
       "    .dataframe thead th {\n",
       "        text-align: right;\n",
       "    }\n",
       "</style>\n",
       "<table border=\"1\" class=\"dataframe\">\n",
       "  <thead>\n",
       "    <tr style=\"text-align: right;\">\n",
       "      <th></th>\n",
       "      <th>agent_A</th>\n",
       "      <th>agent_B</th>\n",
       "      <th>stmt_type</th>\n",
       "      <th>relation_category</th>\n",
       "      <th>edge_norm</th>\n",
       "      <th>relation</th>\n",
       "    </tr>\n",
       "  </thead>\n",
       "  <tbody>\n",
       "    <tr>\n",
       "      <th>0</th>\n",
       "      <td>HGNC:12873</td>\n",
       "      <td>HGNC:11715</td>\n",
       "      <td>Complex</td>\n",
       "      <td>2</td>\n",
       "      <td>0.001123</td>\n",
       "      <td>(agent, Complex, agent)</td>\n",
       "    </tr>\n",
       "    <tr>\n",
       "      <th>1</th>\n",
       "      <td>HGNC:11715</td>\n",
       "      <td>HGNC:12873</td>\n",
       "      <td>Complex</td>\n",
       "      <td>2</td>\n",
       "      <td>0.001123</td>\n",
       "      <td>(agent, Complex, agent)</td>\n",
       "    </tr>\n",
       "    <tr>\n",
       "      <th>2</th>\n",
       "      <td>HGNC:12731</td>\n",
       "      <td>HGNC:19297</td>\n",
       "      <td>Complex</td>\n",
       "      <td>2</td>\n",
       "      <td>0.003247</td>\n",
       "      <td>(agent, Complex, agent)</td>\n",
       "    </tr>\n",
       "    <tr>\n",
       "      <th>3</th>\n",
       "      <td>HGNC:19297</td>\n",
       "      <td>HGNC:12731</td>\n",
       "      <td>Complex</td>\n",
       "      <td>2</td>\n",
       "      <td>0.003247</td>\n",
       "      <td>(agent, Complex, agent)</td>\n",
       "    </tr>\n",
       "    <tr>\n",
       "      <th>4</th>\n",
       "      <td>HGNC:6843</td>\n",
       "      <td>HGNC:2631</td>\n",
       "      <td>Activation</td>\n",
       "      <td>1</td>\n",
       "      <td>0.001942</td>\n",
       "      <td>(agent, Activation, agent)</td>\n",
       "    </tr>\n",
       "  </tbody>\n",
       "</table>\n",
       "</div>"
      ],
      "text/plain": [
       "      agent_A     agent_B   stmt_type  relation_category  edge_norm  \\\n",
       "0  HGNC:12873  HGNC:11715     Complex                  2   0.001123   \n",
       "1  HGNC:11715  HGNC:12873     Complex                  2   0.001123   \n",
       "2  HGNC:12731  HGNC:19297     Complex                  2   0.003247   \n",
       "3  HGNC:19297  HGNC:12731     Complex                  2   0.003247   \n",
       "4   HGNC:6843   HGNC:2631  Activation                  1   0.001942   \n",
       "\n",
       "                     relation  \n",
       "0     (agent, Complex, agent)  \n",
       "1     (agent, Complex, agent)  \n",
       "2     (agent, Complex, agent)  \n",
       "3     (agent, Complex, agent)  \n",
       "4  (agent, Activation, agent)  "
      ]
     },
     "execution_count": 14,
     "metadata": {},
     "output_type": "execute_result"
    }
   ],
   "source": [
    "bios_graph_data['relation'] = bios_graph_data.apply(lambda x: ('agent', x.stmt_type, 'agent'), axis=1)\n",
    "bios_graph_data.head()"
   ]
  },
  {
   "cell_type": "code",
   "execution_count": 15,
   "metadata": {},
   "outputs": [],
   "source": [
    "#edge_type = np.array(bios_graph_data['relation_category'])\n",
    "edge_type = torch.tensor(bios_graph_data['relation_category'].to_numpy())\n",
    "#edge_name_tuple = torch.tensor(bios_graph_data['stmt_type'])\n",
    "\n",
    "g.edata['rel_type'] = edge_type\n",
    "g.edata['etype'] = edge_type"
   ]
  },
  {
   "cell_type": "code",
   "execution_count": 16,
   "metadata": {},
   "outputs": [],
   "source": [
    "#g.apply_edges(lambda edges: {'etype': edges})"
   ]
  },
  {
   "cell_type": "code",
   "execution_count": 17,
   "metadata": {},
   "outputs": [
    {
     "data": {
      "text/plain": [
       "199526"
      ]
     },
     "execution_count": 17,
     "metadata": {},
     "output_type": "execute_result"
    }
   ],
   "source": [
    "len(edge_type)"
   ]
  },
  {
   "cell_type": "code",
   "execution_count": 18,
   "metadata": {},
   "outputs": [],
   "source": [
    "edge_norm = torch.tensor(bios_graph_data['edge_norm'].to_numpy())\n",
    "g.edata['norm'] = edge_norm"
   ]
  },
  {
   "cell_type": "code",
   "execution_count": 19,
   "metadata": {},
   "outputs": [
    {
     "data": {
      "text/plain": [
       "199526"
      ]
     },
     "execution_count": 19,
     "metadata": {},
     "output_type": "execute_result"
    }
   ],
   "source": [
    "len(edge_norm)"
   ]
  },
  {
   "cell_type": "code",
   "execution_count": 20,
   "metadata": {},
   "outputs": [
    {
     "data": {
      "text/plain": [
       "(tensor([5396, 4777, 5309,  ..., 3404,  910, 3073]),\n",
       " tensor([ 1378,  2014,  5322,  ..., 13638, 11352, 11848]))"
      ]
     },
     "execution_count": 20,
     "metadata": {},
     "output_type": "execute_result"
    }
   ],
   "source": [
    "g.edges()"
   ]
  },
  {
   "cell_type": "code",
   "execution_count": 21,
   "metadata": {},
   "outputs": [
    {
     "data": {
      "text/plain": [
       "199526"
      ]
     },
     "execution_count": 21,
     "metadata": {},
     "output_type": "execute_result"
    }
   ],
   "source": [
    "g.number_of_edges()"
   ]
  },
  {
   "cell_type": "code",
   "execution_count": 22,
   "metadata": {},
   "outputs": [
    {
     "data": {
      "text/plain": [
       "{'rel_type': tensor([ 2,  2,  2,  ..., 17, 16, 17], dtype=torch.int8), 'etype': tensor([ 2,  2,  2,  ..., 17, 16, 17], dtype=torch.int8), 'norm': tensor([0.0011, 0.0011, 0.0032,  ..., 0.0031, 0.0013, 0.0004],\n",
       "       dtype=torch.float64)}"
      ]
     },
     "execution_count": 22,
     "metadata": {},
     "output_type": "execute_result"
    }
   ],
   "source": [
    "g.edata"
   ]
  },
  {
   "cell_type": "code",
   "execution_count": 23,
   "metadata": {},
   "outputs": [
    {
     "name": "stderr",
     "output_type": "stream",
     "text": [
      "/Users/christinawang/.conda/envs/section13/lib/python3.8/site-packages/dgl/base.py:45: DGLWarning: DGLGraph.__len__ is deprecated.Please directly call DGLGraph.number_of_nodes.\n",
      "  return warnings.warn(message, category=category, stacklevel=1)\n"
     ]
    },
    {
     "data": {
      "text/plain": [
       "18210"
      ]
     },
     "execution_count": 23,
     "metadata": {},
     "output_type": "execute_result"
    }
   ],
   "source": [
    "len(g)"
   ]
  },
  {
   "cell_type": "code",
   "execution_count": null,
   "metadata": {},
   "outputs": [],
   "source": [
    "# configurations\n",
    "n_hidden = 199526 # number of hidden units\n",
    "n_bases = -1 # use number of relations as number of bases\n",
    "n_hidden_layers = 0 # use 1 input layer, 1 output layer, no hidden layer\n",
    "n_epochs = 25 # epochs to train\n",
    "lr = 0.01 # learning rate\n",
    "l2norm = 0 # L2 norm coefficient\n",
    "\n",
    "\n",
    "#unsure -took my best guess for these values\n",
    "num_classes= 1\n",
    "num_rels = len(np.unique(bios_graph_data['relation_category'].tolist()))\n",
    "\n",
    "\n",
    "model = Model(len(g),    \n",
    "              n_hidden, \n",
    "              num_classes,\n",
    "              num_rels,\n",
    "              num_bases=n_bases,\n",
    "              num_hidden_layers=n_hidden_layers)"
   ]
  },
  {
   "cell_type": "markdown",
   "metadata": {},
   "source": [
    "Create index for train, validation, and test"
   ]
  },
  {
   "cell_type": "code",
   "execution_count": null,
   "metadata": {},
   "outputs": [],
   "source": [
    "# train_idx = bios_graph_data.index[0:5000]\n",
    "# valid_idx = bios_graph_data.index[6000:7000]\n",
    "# test_idx = bios_graph_data.index[5000:6000]\n",
    "\n",
    "#not randomizing the index sampling for now for my sanity's sake\n",
    "train_idx = bios_graph_data.index[0:10]\n",
    "valid_idx = bios_graph_data.index[10:15]\n",
    "test_idx = bios_graph_data.index[15:20]"
   ]
  },
  {
   "cell_type": "markdown",
   "metadata": {},
   "source": [
    "Train and run classification"
   ]
  },
  {
   "cell_type": "code",
   "execution_count": null,
   "metadata": {},
   "outputs": [],
   "source": [
    "# optimizer\n",
    "optimizer = torch.optim.Adam(model.parameters(), lr=lr, weight_decay=l2norm)\n",
    "\n",
    "print(\"start training...\")\n",
    "model.train()\n",
    "for epoch in range(n_epochs):\n",
    "    optimizer.zero_grad()\n",
    "    logits = model.forward(g)\n",
    "    loss = F.cross_entropy(logits[train_idx], labels[train_idx])\n",
    "    loss.backward()\n",
    "\n",
    "    optimizer.step()\n",
    "\n",
    "    train_acc = torch.sum(logits[train_idx].argmax(dim=1) == labels[train_idx])\n",
    "    train_acc = train_acc.item() / len(train_idx)\n",
    "    val_loss = F.cross_entropy(logits[val_idx], labels[val_idx])\n",
    "    val_acc = torch.sum(logits[val_idx].argmax(dim=1) == labels[val_idx])\n",
    "    val_acc = val_acc.item() / len(val_idx)\n",
    "    print(\"Epoch {:05d} | \".format(epoch) +\n",
    "          \"Train Accuracy: {:.4f} | Train Loss: {:.4f} | \".format(\n",
    "              train_acc, loss.item()) +\n",
    "          \"Validation Accuracy: {:.4f} | Validation loss: {:.4f}\".format(\n",
    "              val_acc, val_loss.item()))"
   ]
  },
  {
   "cell_type": "code",
   "execution_count": null,
   "metadata": {},
   "outputs": [],
   "source": []
  }
 ],
 "metadata": {
  "kernelspec": {
   "display_name": "Python 3",
   "language": "python",
   "name": "python3"
  },
  "language_info": {
   "codemirror_mode": {
    "name": "ipython",
    "version": 3
   },
   "file_extension": ".py",
   "mimetype": "text/x-python",
   "name": "python",
   "nbconvert_exporter": "python",
   "pygments_lexer": "ipython3",
   "version": "3.8.5"
  }
 },
 "nbformat": 4,
 "nbformat_minor": 4
}
